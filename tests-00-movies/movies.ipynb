{
 "cells": [
  {
   "cell_type": "code",
   "execution_count": 1,
   "metadata": {},
   "outputs": [
    {
     "name": "stdout",
     "output_type": "stream",
     "text": [
      "movies.ipynb\t    title.basics.tsv\t title.crew.tsv.gz\r\n",
      "name.basics.tsv     title.basics.tsv.gz  title.ratings.tsv\r\n",
      "name.basics.tsv.gz  title.crew.tsv\t title.ratings.tsv.gz\r\n"
     ]
    }
   ],
   "source": [
    "!ls "
   ]
  },
  {
   "cell_type": "code",
   "execution_count": 33,
   "metadata": {},
   "outputs": [],
   "source": [
    "import pandas as pd\n",
    "import numpy as np"
   ]
  },
  {
   "cell_type": "code",
   "execution_count": 4,
   "metadata": {},
   "outputs": [
    {
     "name": "stderr",
     "output_type": "stream",
     "text": [
      "/home/mahdi/w/data-analysis-course/.env/lib/python3.8/site-packages/IPython/core/interactiveshell.py:3145: DtypeWarning: Columns (5) have mixed types.Specify dtype option on import or set low_memory=False.\n",
      "  has_raised = await self.run_ast_nodes(code_ast.body, cell_name,\n"
     ]
    }
   ],
   "source": [
    "title_crew=pd.read_csv('title.crew.tsv',sep='\\t')\n",
    "title_ratings=pd.read_csv('title.ratings.tsv',sep='\\t')\n",
    "title_basics=pd.read_csv('title.basics.tsv',sep='\\t')\n",
    "name_basics=pd.read_csv('name.basics.tsv',sep='\\t')"
   ]
  },
  {
   "cell_type": "code",
   "execution_count": 21,
   "metadata": {},
   "outputs": [
    {
     "ename": "KeyError",
     "evalue": "\"None of ['tconst'] are in the columns\"",
     "output_type": "error",
     "traceback": [
      "\u001b[0;31m---------------------------------------------------------------------------\u001b[0m",
      "\u001b[0;31mKeyError\u001b[0m                                  Traceback (most recent call last)",
      "\u001b[0;32m<ipython-input-21-8a64488ae41e>\u001b[0m in \u001b[0;36m<module>\u001b[0;34m\u001b[0m\n\u001b[0;32m----> 1\u001b[0;31m \u001b[0mtitle_ratings\u001b[0m  \u001b[0;34m=\u001b[0m \u001b[0mtitle_ratings\u001b[0m\u001b[0;34m.\u001b[0m\u001b[0mset_index\u001b[0m\u001b[0;34m(\u001b[0m\u001b[0;34m'tconst'\u001b[0m\u001b[0;34m)\u001b[0m\u001b[0;34m\u001b[0m\u001b[0;34m\u001b[0m\u001b[0m\n\u001b[0m\u001b[1;32m      2\u001b[0m \u001b[0mtitle_basics\u001b[0m \u001b[0;34m=\u001b[0m \u001b[0mtitle_basics\u001b[0m\u001b[0;34m.\u001b[0m\u001b[0mset_index\u001b[0m\u001b[0;34m(\u001b[0m\u001b[0;34m'tconst'\u001b[0m\u001b[0;34m)\u001b[0m\u001b[0;34m\u001b[0m\u001b[0;34m\u001b[0m\u001b[0m\n",
      "\u001b[0;32m~/w/data-analysis-course/.env/lib/python3.8/site-packages/pandas/core/frame.py\u001b[0m in \u001b[0;36mset_index\u001b[0;34m(self, keys, drop, append, inplace, verify_integrity)\u001b[0m\n\u001b[1;32m   4549\u001b[0m \u001b[0;34m\u001b[0m\u001b[0m\n\u001b[1;32m   4550\u001b[0m         \u001b[0;32mif\u001b[0m \u001b[0mmissing\u001b[0m\u001b[0;34m:\u001b[0m\u001b[0;34m\u001b[0m\u001b[0;34m\u001b[0m\u001b[0m\n\u001b[0;32m-> 4551\u001b[0;31m             \u001b[0;32mraise\u001b[0m \u001b[0mKeyError\u001b[0m\u001b[0;34m(\u001b[0m\u001b[0;34mf\"None of {missing} are in the columns\"\u001b[0m\u001b[0;34m)\u001b[0m\u001b[0;34m\u001b[0m\u001b[0;34m\u001b[0m\u001b[0m\n\u001b[0m\u001b[1;32m   4552\u001b[0m \u001b[0;34m\u001b[0m\u001b[0m\n\u001b[1;32m   4553\u001b[0m         \u001b[0;32mif\u001b[0m \u001b[0minplace\u001b[0m\u001b[0;34m:\u001b[0m\u001b[0;34m\u001b[0m\u001b[0;34m\u001b[0m\u001b[0m\n",
      "\u001b[0;31mKeyError\u001b[0m: \"None of ['tconst'] are in the columns\""
     ]
    }
   ],
   "source": [
    "title_ratings  = title_ratings.set_index('tconst')\n",
    "title_basics = title_basics.set_index('tconst')"
   ]
  },
  {
   "cell_type": "code",
   "execution_count": 26,
   "metadata": {},
   "outputs": [],
   "source": [
    "joined = title_basics.join(title_ratings)"
   ]
  },
  {
   "cell_type": "code",
   "execution_count": 35,
   "metadata": {},
   "outputs": [],
   "source": [
    "name_basics = name_basics[name_basics['knownForTitles'] != '\\\\N']"
   ]
  },
  {
   "cell_type": "code",
   "execution_count": 38,
   "metadata": {},
   "outputs": [],
   "source": [
    "name_basics = name_basics.dropna()"
   ]
  },
  {
   "cell_type": "code",
   "execution_count": 58,
   "metadata": {},
   "outputs": [
    {
     "data": {
      "text/plain": [
       "['tt0053137', 'tt0031983', 'tt0072308', 'tt0050419']"
      ]
     },
     "execution_count": 58,
     "metadata": {},
     "output_type": "execute_result"
    }
   ],
   "source": [
    "name_basics.loc[0, 'knownForTitles'].split(',')"
   ]
  },
  {
   "cell_type": "code",
   "execution_count": 59,
   "metadata": {},
   "outputs": [
    {
     "data": {
      "text/html": [
       "<div>\n",
       "<style scoped>\n",
       "    .dataframe tbody tr th:only-of-type {\n",
       "        vertical-align: middle;\n",
       "    }\n",
       "\n",
       "    .dataframe tbody tr th {\n",
       "        vertical-align: top;\n",
       "    }\n",
       "\n",
       "    .dataframe thead th {\n",
       "        text-align: right;\n",
       "    }\n",
       "</style>\n",
       "<table border=\"1\" class=\"dataframe\">\n",
       "  <thead>\n",
       "    <tr style=\"text-align: right;\">\n",
       "      <th></th>\n",
       "      <th>titleType</th>\n",
       "      <th>primaryTitle</th>\n",
       "      <th>originalTitle</th>\n",
       "      <th>isAdult</th>\n",
       "      <th>startYear</th>\n",
       "      <th>endYear</th>\n",
       "      <th>runtimeMinutes</th>\n",
       "      <th>genres</th>\n",
       "    </tr>\n",
       "    <tr>\n",
       "      <th>tconst</th>\n",
       "      <th></th>\n",
       "      <th></th>\n",
       "      <th></th>\n",
       "      <th></th>\n",
       "      <th></th>\n",
       "      <th></th>\n",
       "      <th></th>\n",
       "      <th></th>\n",
       "    </tr>\n",
       "  </thead>\n",
       "  <tbody>\n",
       "    <tr>\n",
       "      <th>tt0053137</th>\n",
       "      <td>movie</td>\n",
       "      <td>On the Beach</td>\n",
       "      <td>On the Beach</td>\n",
       "      <td>0</td>\n",
       "      <td>1959</td>\n",
       "      <td>\\N</td>\n",
       "      <td>134</td>\n",
       "      <td>Drama,Romance,Sci-Fi</td>\n",
       "    </tr>\n",
       "    <tr>\n",
       "      <th>tt0031983</th>\n",
       "      <td>movie</td>\n",
       "      <td>The Story of Vernon and Irene Castle</td>\n",
       "      <td>The Story of Vernon and Irene Castle</td>\n",
       "      <td>0</td>\n",
       "      <td>1939</td>\n",
       "      <td>\\N</td>\n",
       "      <td>93</td>\n",
       "      <td>Biography,Drama,Musical</td>\n",
       "    </tr>\n",
       "    <tr>\n",
       "      <th>tt0072308</th>\n",
       "      <td>movie</td>\n",
       "      <td>The Towering Inferno</td>\n",
       "      <td>The Towering Inferno</td>\n",
       "      <td>0</td>\n",
       "      <td>1974</td>\n",
       "      <td>\\N</td>\n",
       "      <td>165</td>\n",
       "      <td>Action,Drama,Thriller</td>\n",
       "    </tr>\n",
       "    <tr>\n",
       "      <th>tt0050419</th>\n",
       "      <td>movie</td>\n",
       "      <td>Funny Face</td>\n",
       "      <td>Funny Face</td>\n",
       "      <td>0</td>\n",
       "      <td>1957</td>\n",
       "      <td>\\N</td>\n",
       "      <td>103</td>\n",
       "      <td>Comedy,Musical,Romance</td>\n",
       "    </tr>\n",
       "  </tbody>\n",
       "</table>\n",
       "</div>"
      ],
      "text/plain": [
       "          titleType                          primaryTitle  \\\n",
       "tconst                                                      \n",
       "tt0053137     movie                          On the Beach   \n",
       "tt0031983     movie  The Story of Vernon and Irene Castle   \n",
       "tt0072308     movie                  The Towering Inferno   \n",
       "tt0050419     movie                            Funny Face   \n",
       "\n",
       "                                  originalTitle  isAdult startYear endYear  \\\n",
       "tconst                                                                       \n",
       "tt0053137                          On the Beach        0      1959      \\N   \n",
       "tt0031983  The Story of Vernon and Irene Castle        0      1939      \\N   \n",
       "tt0072308                  The Towering Inferno        0      1974      \\N   \n",
       "tt0050419                            Funny Face        0      1957      \\N   \n",
       "\n",
       "          runtimeMinutes                   genres  \n",
       "tconst                                             \n",
       "tt0053137            134     Drama,Romance,Sci-Fi  \n",
       "tt0031983             93  Biography,Drama,Musical  \n",
       "tt0072308            165    Action,Drama,Thriller  \n",
       "tt0050419            103   Comedy,Musical,Romance  "
      ]
     },
     "execution_count": 59,
     "metadata": {},
     "output_type": "execute_result"
    }
   ],
   "source": [
    "titles = name_basics.loc[0, 'knownForTitles'].split(',')\n",
    "title_basics.loc[titles, :]"
   ]
  }
 ],
 "metadata": {
  "kernelspec": {
   "display_name": "Python 3",
   "language": "python",
   "name": "python3"
  },
  "language_info": {
   "codemirror_mode": {
    "name": "ipython",
    "version": 3
   },
   "file_extension": ".py",
   "mimetype": "text/x-python",
   "name": "python",
   "nbconvert_exporter": "python",
   "pygments_lexer": "ipython3",
   "version": "3.8.5"
  }
 },
 "nbformat": 4,
 "nbformat_minor": 4
}
