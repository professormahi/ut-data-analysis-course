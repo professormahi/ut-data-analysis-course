{
 "cells": [
  {
   "cell_type": "code",
   "execution_count": 4,
   "metadata": {},
   "outputs": [],
   "source": [
    "months = [\n",
    "    0,\n",
    "    31,\n",
    "    31 * 2,\n",
    "    31 * 3,\n",
    "    31 * 4,\n",
    "    31 * 5,\n",
    "    31 * 6,\n",
    "    31 * 6 + 30,\n",
    "    31 * 6 + 30 * 2,\n",
    "    31 * 6 + 30 * 3,\n",
    "    31 * 6 + 30 * 4,\n",
    "    31 * 6 + 30 * 5,\n",
    "    #31 * 6 + 30 * 5 + 29\n",
    "]\n",
    "\n",
    "\n",
    "\n",
    "def date_difference(a, b):\n",
    "    ya, ma, da = (int(i) for i in a.split('/'))\n",
    "    yb, mb, db = (int(i) for i in b.split('/'))\n",
    "    \n",
    "    return (ya - yb) * 365 + (months[ma - 1] - months[mb - 1]) + da - db\n",
    "    "
   ]
  },
  {
   "cell_type": "code",
   "execution_count": 7,
   "metadata": {},
   "outputs": [
    {
     "data": {
      "text/plain": [
       "97"
      ]
     },
     "execution_count": 7,
     "metadata": {},
     "output_type": "execute_result"
    }
   ],
   "source": [
    "date_difference('1399/10/12','1399/7/5')"
   ]
  }
 ],
 "metadata": {
  "kernelspec": {
   "display_name": "Python 3",
   "language": "python",
   "name": "python3"
  },
  "language_info": {
   "codemirror_mode": {
    "name": "ipython",
    "version": 3
   },
   "file_extension": ".py",
   "mimetype": "text/x-python",
   "name": "python",
   "nbconvert_exporter": "python",
   "pygments_lexer": "ipython3",
   "version": "3.8.5"
  }
 },
 "nbformat": 4,
 "nbformat_minor": 4
}
